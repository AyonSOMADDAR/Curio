{
 "cells": [
  {
   "cell_type": "code",
   "execution_count": 33,
   "metadata": {},
   "outputs": [],
   "source": [
    "import pandas as pd\n",
    "import numpy as np\n",
    "\n",
    "df=pd.read_csv('conversation_history.csv')\n",
    "df.columns=['Timestamps','Name','User_Input','Response']\n",
    "df=df[df.Name=='Noyaa']"
   ]
  },
  {
   "cell_type": "code",
   "execution_count": 34,
   "metadata": {},
   "outputs": [],
   "source": [
    "history=df['User_Input'].tolist()+df['Response'].tolist()"
   ]
  },
  {
   "cell_type": "code",
   "execution_count": 35,
   "metadata": {},
   "outputs": [
    {
     "data": {
      "text/plain": [
       "['thank you',\n",
       " 'thank you',\n",
       " 'what is blockchain?',\n",
       " 'what is blockchain?',\n",
       " \"Welcome! My name is Curio, and I'll be your teacher today. I understand that you're 21 years old, male, and have some experience in the field, but you're looking to gain a deeper understanding of the subject. I'm here to help you with that.\\n\\nLet's start with the basics. Blockchain technology is a distributed database that is used to maintain a continuously growing list of records, called blocks. Each block contains a timestamp, a transaction record, and a reference to the previous block. Once a block is added to the chain, it cannot be altered retroactively without the alteration of all subsequent blocks, which requires collusion of the network majority.\\n\\nBlockchain technology is often used for cryptocurrency, but it has many other potential applications, such as supply chain management, voting, and healthcare.\\n\\nOne of the key benefits of blockchain technology is its security. The distributed nature of the blockchain makes it very difficult for hackers to attack. Additionally, the use of cryptography ensures that only authorized users can access the data on the blockchain.\\n\\nHowever, blockchain technology also has some limitations. One limitation is that it is relatively slow and expensive to process transactions on the blockchain. Additionally, the blockchain is immutable, which means that once data is added to the blockchain, it cannot be removed.\\n\\nDespite these limitations, blockchain technology is a powerful tool that has the potential to revolutionize many industries. As the technology continues to develop, we can expect to see even more innovative applications for blockchain technology.\\n\\nNow, let's talk about your specific interests. You mentioned that you're interested in learning more about smart contracts. Smart contracts are programs that run on the blockchain. They can be used to automate a variety of tasks, such as transferring funds, executing agreements, and managing supply chains.\\n\\nSmart contracts are still a relatively new technology, but they have the potential to revolutionize the way we do business. By automating tasks and reducing the need for intermediaries, smart contracts can save time, money, and increase efficiency.\\n\\nI encourage you to do some research on smart contracts and other blockchain-related topics. There are many resources available online, and there are also many meetups and conferences where you can learn more about blockchain technology.\\n\\nI hope this helps! Please let me know if you have any other questions.\",\n",
       " \"Welcome! My name is Curio, and I'll be your teacher today. I understand that you're 21 years old, male, and have some experience in the field, but you're looking to gain a deeper understanding of the subject. I'm here to help you with that.\\n\\nLet's start with the basics. Blockchain technology is a distributed database that is used to maintain a continuously growing list of records, called blocks. Each block contains a timestamp, a transaction record, and a reference to the previous block. Once a block is added to the chain, it cannot be altered retroactively without the alteration of all subsequent blocks, which requires collusion of the network majority.\\n\\nBlockchain technology is often used for cryptocurrency, but it has many other potential applications, such as supply chain management, voting, and healthcare.\\n\\nOne of the key benefits of blockchain technology is its security. The distributed nature of the blockchain makes it very difficult for hackers to attack. Additionally, the use of cryptography ensures that only authorized users can access the data on the blockchain.\\n\\nHowever, blockchain technology also has some limitations. One limitation is that it is relatively slow and expensive to process transactions on the blockchain. Additionally, the blockchain is immutable, which means that once data is added to the blockchain, it cannot be removed.\\n\\nDespite these limitations, blockchain technology is a powerful tool that has the potential to revolutionize many industries. As the technology continues to develop, we can expect to see even more innovative applications for blockchain technology.\\n\\nNow, let's talk about your specific interests. You mentioned that you're interested in learning more about smart contracts. Smart contracts are programs that run on the blockchain. They can be used to automate a variety of tasks, such as transferring funds, executing agreements, and managing supply chains.\\n\\nSmart contracts are still a relatively new technology, but they have the potential to revolutionize the way we do business. By automating tasks and reducing the need for intermediaries, smart contracts can save time, money, and increase efficiency.\\n\\nI encourage you to do some research on smart contracts and other blockchain-related topics. There are many resources available online, and there are also many meetups and conferences where you can learn more about blockchain technology.\\n\\nI hope this helps! Please let me know if you have any other questions.\",\n",
       " 'Blockchain is a peer-to-peer, distributed ledger that is cryptographically secure, append-only, immutable (extremely hard to change), and updateable only via consensus among peers.',\n",
       " 'Blockchain is a peer-to-peer, distributed ledger that is cryptographically secure, append-only, immutable (extremely hard to change), and updateable only via consensus among peers.']"
      ]
     },
     "execution_count": 35,
     "metadata": {},
     "output_type": "execute_result"
    }
   ],
   "source": [
    "history"
   ]
  },
  {
   "cell_type": "code",
   "execution_count": 37,
   "metadata": {},
   "outputs": [
    {
     "data": {
      "text/html": [
       "<div>\n",
       "<style scoped>\n",
       "    .dataframe tbody tr th:only-of-type {\n",
       "        vertical-align: middle;\n",
       "    }\n",
       "\n",
       "    .dataframe tbody tr th {\n",
       "        vertical-align: top;\n",
       "    }\n",
       "\n",
       "    .dataframe thead th {\n",
       "        text-align: right;\n",
       "    }\n",
       "</style>\n",
       "<table border=\"1\" class=\"dataframe\">\n",
       "  <thead>\n",
       "    <tr style=\"text-align: right;\">\n",
       "      <th></th>\n",
       "      <th>Timestamps</th>\n",
       "      <th>Name</th>\n",
       "      <th>User_Input</th>\n",
       "      <th>Response</th>\n",
       "    </tr>\n",
       "  </thead>\n",
       "  <tbody>\n",
       "    <tr>\n",
       "      <th>0</th>\n",
       "      <td>2024-02-17 17:58:04</td>\n",
       "      <td>Noyaa</td>\n",
       "      <td>thank you</td>\n",
       "      <td>Welcome! My name is Curio, and I'll be your te...</td>\n",
       "    </tr>\n",
       "    <tr>\n",
       "      <th>2</th>\n",
       "      <td>2024-02-17 18:04:46</td>\n",
       "      <td>Noyaa</td>\n",
       "      <td>what is blockchain?</td>\n",
       "      <td>Blockchain is a peer-to-peer, distributed ledg...</td>\n",
       "    </tr>\n",
       "  </tbody>\n",
       "</table>\n",
       "</div>"
      ],
      "text/plain": [
       "            Timestamps   Name           User_Input  \\\n",
       "0  2024-02-17 17:58:04  Noyaa            thank you   \n",
       "2  2024-02-17 18:04:46  Noyaa  what is blockchain?   \n",
       "\n",
       "                                            Response  \n",
       "0  Welcome! My name is Curio, and I'll be your te...  \n",
       "2  Blockchain is a peer-to-peer, distributed ledg...  "
      ]
     },
     "execution_count": 37,
     "metadata": {},
     "output_type": "execute_result"
    }
   ],
   "source": [
    "df.drop_duplicates()"
   ]
  },
  {
   "cell_type": "code",
   "execution_count": 38,
   "metadata": {},
   "outputs": [],
   "source": [
    "l=['**Questions:**', '1. What is the process of reaching agreement on a common state or value among multiple nodes called?\\n2. What is the name of the technology that validates transactions and creates blocks to grow the blockchain?\\n3. What is the purpose of a transaction in a blockchain?\\n4. What is the process called when a miner solves a mathematical puzzle and finds a new block?\\n5. What is the benefit of decentralization in blockchain?\\n6. What is the difference between a public and a private blockchain?\\n7. What is the purpose of smart contracts in blockchain?\\n8. What is the primary limitation of blockchain technology?\\n9. What is the term for a distributed ledger that does not use blocks of transactions?\\n10. What is the difference between a permissioned and a permissionless blockchain?', '**Answers:**', '1. Distributed consensus\\n2. Blockchain\\n3. To represent a transfer of value or an action on the blockchain network\\n4. Finding a new block\\n5. It eliminates the need for a trusted third party and reduces overhead costs\\n6. Public blockchains are open to anyone, while private blockchains are only accessible to a specific group of participants\\n7. To automate and execute business logic and code on the blockchain network\\n8. Scalability\\n9. Distributed ledger\\n10. Permissioned blockchains have pre-selected verifiers, while permissionless blockchains allow anyone to participate in the consensus process']"
   ]
  },
  {
   "cell_type": "code",
   "execution_count": 83,
   "metadata": {},
   "outputs": [],
   "source": [
    "l=['**Question 1 (Rating: Easy)**', 'Which of the following is NOT a benefit of blockchain technology?', '(A) Simplification of current paradigms\\n(B) Increased transaction costs\\n(C) Faster dealings\\n(D) Transparency and trust', '**Correct Answer: B**', '**Question 2 (Rating: Medium)**', 'What is the process called where miners race to finalize a block on a blockchain?', '(A) Consensus\\n(B) Mining\\n(C) Validation\\n(D) Propagation', '**Correct Answer: B**', '**Question 3 (Rating: Hard)**', 'Which of the following is a type of blockchain that is open to the public and anyone can participate as a node?', '(A) Private blockchain\\n(B) Public blockchain\\n(C) Consortium blockchain\\n(D) Permissioned blockchain', '**Correct Answer: B**', '**Question 4 (Rating: Easy)**', 'What is the term for the shared and replicated database used in blockchain technology?', '(A) Ledger\\n(B) Block\\n(C) Transaction\\n(D) Hash', '**Correct Answer: A**', '**Question 5 (Rating: Medium)**', 'Which of the following is a key difference between a distributed ledger and a blockchain?', '(A) Distributed ledgers do not use blocks of transactions.\\n(B) Blockchains are always public.\\n(C) Distributed ledgers are more secure than blockchains.\\n(D) Blockchains are only used for cryptocurrencies.', '**Correct Answer: A**', '**Question 6 (Rating: Hard)**', 'What is the name of the consensus mechanism used in Bitcoin?', '(A) Proof-of-Work\\n(B) Proof-of-Stake\\n(C) Practical Byzantine Fault Tolerance\\n(D) Delegated Proof-of-Stake', '**Correct Answer: A**', '**Question 7 (Rating: Easy)**', 'Which of the following is a limitation of blockchain technology?', '(A) Scalability\\n(B) Regulation\\n(C) Privacy\\n(D) All of the above', '**Correct Answer: D**', '**Question 8 (Rating: Medium)**', 'What is the term for the cryptographic link between blocks in a blockchain?', '(A) Hash pointer\\n(B) Merkle tree\\n(C) Digital signature\\n(D) Nonce', '**Correct Answer: A**', '**Question 9 (Rating: Hard)**', 'Which of the following is a promising technology being used to enhance privacy on blockchains?', '(A) Zero-knowledge proofs\\n(B) Homomorphic encryption\\n(C) Differential privacy\\n(D) Ring signatures', '**Correct Answer: A**', '**Question 10 (Rating: Easy)**', 'What is the name of the first smart contract programmable blockchain?', '(A) Bitcoin\\n(B) Ethereum\\n(C) Hyperledger Fabric\\n(D) Corda', '**Correct Answer: B**']"
   ]
  },
  {
   "cell_type": "code",
   "execution_count": 85,
   "metadata": {},
   "outputs": [],
   "source": [
    "l=['**Multiple-Choice Questions**', '**Easy (Rating: 0)**', '1. What is the primary purpose of blockchain technology?\\n   (a) To facilitate secure and transparent transactions\\n   (b) To store sensitive data in a centralized location\\n   (c) To replace traditional banking systems\\n   (d) To track the movement of physical goods', '2. Which of the following is a key feature of blockchain?\\n   (a) Immutability\\n   (b) Centralization\\n   (c) Lack of transparency\\n   (d) Low transaction fees', '**Medium (Rating: 1)**', '3. What is the process called where miners validate transactions and add them to the blockchain?\\n   (a) Consensus\\n   (b) Mining\\n   (c) Proof-of-Work\\n   (d) Smart contracting', '4. Which of the following is a type of blockchain that is open to the public?\\n   (a) Private blockchain\\n   (b) Consortium blockchain\\n   (c) Public blockchain\\n   (d) Semi-private blockchain', '**Hard (Rating: 2)**', '5. What is the role of a hash pointer in a blockchain?\\n   (a) To link blocks together\\n   (b) To encrypt transactions\\n   (c) To store the balance of accounts\\n   (d) To verify the identity of miners', '6. How does blockchain technology address the issue of double-spending?\\n   (a) By using a central authority to verify transactions\\n   (b) By creating a unique identifier for each transaction\\n   (c) By recording all transactions in a public ledger\\n   (d) By requiring users to pay a fee for each transaction', '7. What is a smart contract?\\n   (a) A self-executing program stored on the blockchain\\n   (b) A legal agreement between two or more parties\\n   (c) A type of cryptocurrency\\n   (d) A way to transfer funds between different blockchains', '**Advanced (Rating: 3)**', '8. How does blockchain technology differ from traditional distributed systems?\\n   (a) It uses a decentralized consensus mechanism\\n   (b) It is more secure and tamper-proof\\n   (c) It can handle larger volumes of transactions\\n   (d) All of the above', '9. What are some of the challenges associated with blockchain technology?\\n   (a) Scalability\\n   (b) Regulation\\n   (c) Privacy\\n   (d) All of the above', '10. How is blockchain technology being used in the financial industry?\\n   (a) To facilitate cross-border payments\\n   (b) To automate clearing and settlement processes\\n   (c) To reduce the risk of fraud\\n   (d) All of the above', '**Answer Key**', '1. (a)\\n2. (a)\\n3. (b)\\n4. (c)\\n5. (a)\\n6. (c)\\n7. (a)\\n8. (d)\\n9. (d)\\n10. (d)']"
   ]
  },
  {
   "cell_type": "code",
   "execution_count": 45,
   "metadata": {},
   "outputs": [
    {
     "data": {
      "text/plain": [
       "'**Answer Key:**'"
      ]
     },
     "execution_count": 45,
     "metadata": {},
     "output_type": "execute_result"
    }
   ],
   "source": [
    "l[11]"
   ]
  },
  {
   "cell_type": "code",
   "execution_count": 49,
   "metadata": {},
   "outputs": [],
   "source": [
    "questions=l[1:11]"
   ]
  },
  {
   "cell_type": "code",
   "execution_count": 62,
   "metadata": {},
   "outputs": [],
   "source": [
    "answers=l[12:13][0].strip().split('\\n')"
   ]
  },
  {
   "cell_type": "code",
   "execution_count": 79,
   "metadata": {},
   "outputs": [],
   "source": [
    "for i in range(10):\n",
    "    answers[i].replace(\" \",\"\")"
   ]
  },
  {
   "cell_type": "code",
   "execution_count": 86,
   "metadata": {},
   "outputs": [
    {
     "data": {
      "text/plain": [
       "['**Multiple-Choice Questions**',\n",
       " '**Easy (Rating: 0)**',\n",
       " '1. What is the primary purpose of blockchain technology?\\n   (a) To facilitate secure and transparent transactions\\n   (b) To store sensitive data in a centralized location\\n   (c) To replace traditional banking systems\\n   (d) To track the movement of physical goods',\n",
       " '2. Which of the following is a key feature of blockchain?\\n   (a) Immutability\\n   (b) Centralization\\n   (c) Lack of transparency\\n   (d) Low transaction fees',\n",
       " '**Medium (Rating: 1)**',\n",
       " '3. What is the process called where miners validate transactions and add them to the blockchain?\\n   (a) Consensus\\n   (b) Mining\\n   (c) Proof-of-Work\\n   (d) Smart contracting',\n",
       " '4. Which of the following is a type of blockchain that is open to the public?\\n   (a) Private blockchain\\n   (b) Consortium blockchain\\n   (c) Public blockchain\\n   (d) Semi-private blockchain',\n",
       " '**Hard (Rating: 2)**',\n",
       " '5. What is the role of a hash pointer in a blockchain?\\n   (a) To link blocks together\\n   (b) To encrypt transactions\\n   (c) To store the balance of accounts\\n   (d) To verify the identity of miners',\n",
       " '6. How does blockchain technology address the issue of double-spending?\\n   (a) By using a central authority to verify transactions\\n   (b) By creating a unique identifier for each transaction\\n   (c) By recording all transactions in a public ledger\\n   (d) By requiring users to pay a fee for each transaction',\n",
       " '7. What is a smart contract?\\n   (a) A self-executing program stored on the blockchain\\n   (b) A legal agreement between two or more parties\\n   (c) A type of cryptocurrency\\n   (d) A way to transfer funds between different blockchains',\n",
       " '**Advanced (Rating: 3)**',\n",
       " '8. How does blockchain technology differ from traditional distributed systems?\\n   (a) It uses a decentralized consensus mechanism\\n   (b) It is more secure and tamper-proof\\n   (c) It can handle larger volumes of transactions\\n   (d) All of the above',\n",
       " '9. What are some of the challenges associated with blockchain technology?\\n   (a) Scalability\\n   (b) Regulation\\n   (c) Privacy\\n   (d) All of the above',\n",
       " '10. How is blockchain technology being used in the financial industry?\\n   (a) To facilitate cross-border payments\\n   (b) To automate clearing and settlement processes\\n   (c) To reduce the risk of fraud\\n   (d) All of the above',\n",
       " '**Answer Key**',\n",
       " '1. (a)\\n2. (a)\\n3. (b)\\n4. (c)\\n5. (a)\\n6. (c)\\n7. (a)\\n8. (d)\\n9. (d)\\n10. (d)']"
      ]
     },
     "execution_count": 86,
     "metadata": {},
     "output_type": "execute_result"
    }
   ],
   "source": [
    "l"
   ]
  },
  {
   "cell_type": "code",
   "execution_count": 90,
   "metadata": {},
   "outputs": [],
   "source": [
    "l=['**Multiple-Choice Quiz**', '**Question 1:**', 'What is the primary benefit of blockchain technology?', '(A) Centralization\\n(B) Decentralization\\n(C) Increased transaction fees\\n(D) Reduced transparency', '**Question 2:**', 'Which of the following is NOT a characteristic of a blockchain?', '(A) Append-only\\n(B) Immutable\\n(C) Centralized\\n(D) Cryptographically secure', '**Question 3:**', 'What is the purpose of a transaction in a blockchain?', '(A) To transfer value\\n(B) To create a new block\\n(C) To validate the previous block\\n(D) To store data', '**Question 4:**', 'Which consensus mechanism is used in Bitcoin?', '(A) Proof-of-Work\\n(B) Proof-of-Stake\\n(C) Byzantine Fault Tolerance\\n(D) Paxos', '**Question 5:**', 'What is the difference between a public and a private blockchain?', '(A) Public blockchains are open to anyone, while private blockchains are restricted to a specific group.\\n(B) Private blockchains are more secure than public blockchains.\\n(C) Public blockchains use a distributed consensus mechanism, while private blockchains do not.\\n(D) There is no difference between public and private blockchains.', '**Question 6:**', 'What is the role of a miner in a blockchain network?', '(A) To validate transactions\\n(B) To create new blocks\\n(C) To store the blockchain\\n(D) To regulate the network', '**Question 7:**', 'What is the purpose of a hash pointer in a blockchain?', '(A) To link a block to the previous block\\n(B) To store the transaction data\\n(C) To validate the block\\n(D) To prevent double-spending', '**Question 8:**', 'What is a smart contract?', '(A) A program that executes automatically on a blockchain\\n(B) A type of cryptocurrency\\n(C) A way to store data on a blockchain\\n(D) A method of consensus', '**Question 9:**', 'What is the main challenge facing blockchain technology today?', '(A) Scalability\\n(B) Security\\n(C) Regulation\\n(D) All of the above', '**Question 10:**', 'What is the potential impact of blockchain technology on the financial industry?', '(A) Reduced transaction costs\\n(B) Faster settlement times\\n(C) Increased transparency\\n(D) All of the above', '**Answer Key:**', '1. B\\n2. C\\n3. A\\n4. A\\n5. A\\n6. B\\n7. A\\n8. A\\n9. D\\n10. D']"
   ]
  },
  {
   "cell_type": "code",
   "execution_count": 91,
   "metadata": {},
   "outputs": [
    {
     "data": {
      "text/plain": [
       "['**Multiple-Choice Quiz**',\n",
       " '**Question 1:**',\n",
       " 'What is the primary benefit of blockchain technology?',\n",
       " '(A) Centralization\\n(B) Decentralization\\n(C) Increased transaction fees\\n(D) Reduced transparency',\n",
       " '**Question 2:**',\n",
       " 'Which of the following is NOT a characteristic of a blockchain?',\n",
       " '(A) Append-only\\n(B) Immutable\\n(C) Centralized\\n(D) Cryptographically secure',\n",
       " '**Question 3:**',\n",
       " 'What is the purpose of a transaction in a blockchain?',\n",
       " '(A) To transfer value\\n(B) To create a new block\\n(C) To validate the previous block\\n(D) To store data',\n",
       " '**Question 4:**',\n",
       " 'Which consensus mechanism is used in Bitcoin?',\n",
       " '(A) Proof-of-Work\\n(B) Proof-of-Stake\\n(C) Byzantine Fault Tolerance\\n(D) Paxos',\n",
       " '**Question 5:**',\n",
       " 'What is the difference between a public and a private blockchain?',\n",
       " '(A) Public blockchains are open to anyone, while private blockchains are restricted to a specific group.\\n(B) Private blockchains are more secure than public blockchains.\\n(C) Public blockchains use a distributed consensus mechanism, while private blockchains do not.\\n(D) There is no difference between public and private blockchains.',\n",
       " '**Question 6:**',\n",
       " 'What is the role of a miner in a blockchain network?',\n",
       " '(A) To validate transactions\\n(B) To create new blocks\\n(C) To store the blockchain\\n(D) To regulate the network',\n",
       " '**Question 7:**',\n",
       " 'What is the purpose of a hash pointer in a blockchain?',\n",
       " '(A) To link a block to the previous block\\n(B) To store the transaction data\\n(C) To validate the block\\n(D) To prevent double-spending',\n",
       " '**Question 8:**',\n",
       " 'What is a smart contract?',\n",
       " '(A) A program that executes automatically on a blockchain\\n(B) A type of cryptocurrency\\n(C) A way to store data on a blockchain\\n(D) A method of consensus',\n",
       " '**Question 9:**',\n",
       " 'What is the main challenge facing blockchain technology today?',\n",
       " '(A) Scalability\\n(B) Security\\n(C) Regulation\\n(D) All of the above',\n",
       " '**Question 10:**',\n",
       " 'What is the potential impact of blockchain technology on the financial industry?',\n",
       " '(A) Reduced transaction costs\\n(B) Faster settlement times\\n(C) Increased transparency\\n(D) All of the above',\n",
       " '**Answer Key:**',\n",
       " '1. B\\n2. C\\n3. A\\n4. A\\n5. A\\n6. B\\n7. A\\n8. A\\n9. D\\n10. D']"
      ]
     },
     "execution_count": 91,
     "metadata": {},
     "output_type": "execute_result"
    }
   ],
   "source": [
    "l"
   ]
  },
  {
   "cell_type": "code",
   "execution_count": 103,
   "metadata": {},
   "outputs": [
    {
     "data": {
      "text/plain": [
       "['**Multiple-Choice Quiz**',\n",
       " '**Question 1:**',\n",
       " 'What is the primary benefit of blockchain technology?',\n",
       " '(A) Centralization\\n(B) Decentralization\\n(C) Increased transaction fees\\n(D) Reduced transparency',\n",
       " '**Question 2:**',\n",
       " 'Which of the following is NOT a characteristic of a blockchain?',\n",
       " '(A) Append-only\\n(B) Immutable\\n(C) Centralized\\n(D) Cryptographically secure',\n",
       " '**Question 3:**',\n",
       " 'What is the purpose of a transaction in a blockchain?',\n",
       " '(A) To transfer value\\n(B) To create a new block\\n(C) To validate the previous block\\n(D) To store data',\n",
       " '**Question 4:**',\n",
       " 'Which consensus mechanism is used in Bitcoin?',\n",
       " '(A) Proof-of-Work\\n(B) Proof-of-Stake\\n(C) Byzantine Fault Tolerance\\n(D) Paxos',\n",
       " '**Question 5:**',\n",
       " 'What is the difference between a public and a private blockchain?',\n",
       " '(A) Public blockchains are open to anyone, while private blockchains are restricted to a specific group.\\n(B) Private blockchains are more secure than public blockchains.\\n(C) Public blockchains use a distributed consensus mechanism, while private blockchains do not.\\n(D) There is no difference between public and private blockchains.',\n",
       " '**Question 6:**',\n",
       " 'What is the role of a miner in a blockchain network?',\n",
       " '(A) To validate transactions\\n(B) To create new blocks\\n(C) To store the blockchain\\n(D) To regulate the network',\n",
       " '**Question 7:**',\n",
       " 'What is the purpose of a hash pointer in a blockchain?',\n",
       " '(A) To link a block to the previous block\\n(B) To store the transaction data\\n(C) To validate the block\\n(D) To prevent double-spending',\n",
       " '**Question 8:**',\n",
       " 'What is a smart contract?',\n",
       " '(A) A program that executes automatically on a blockchain\\n(B) A type of cryptocurrency\\n(C) A way to store data on a blockchain\\n(D) A method of consensus',\n",
       " '**Question 9:**',\n",
       " 'What is the main challenge facing blockchain technology today?',\n",
       " '(A) Scalability\\n(B) Security\\n(C) Regulation\\n(D) All of the above',\n",
       " '**Question 10:**',\n",
       " 'What is the potential impact of blockchain technology on the financial industry?',\n",
       " '(A) Reduced transaction costs\\n(B) Faster settlement times\\n(C) Increased transparency\\n(D) All of the above']"
      ]
     },
     "execution_count": 103,
     "metadata": {},
     "output_type": "execute_result"
    }
   ],
   "source": [
    "questions=l[0:31]\n",
    "questions"
   ]
  },
  {
   "cell_type": "code",
   "execution_count": 104,
   "metadata": {},
   "outputs": [],
   "source": [
    "m=['**Multiple-Choice Quiz on Blockchain**', '**Easy Questions (2 points each)**', '1. What is the fundamental unit of a blockchain?\\n   (a) Block\\n   (b) Transaction\\n   (c) Address\\n   (d) Smart contract', '2. Which of the following is NOT a benefit of blockchain technology?\\n   (a) Transparency\\n   (b) Scalability\\n   (c) Cost savings\\n   (d) Security', '**Medium Questions (3 points each)**', '3. What is the purpose of a consensus mechanism in a blockchain?\\n   (a) To ensure that all nodes agree on the validity of transactions\\n   (b) To prevent double-spending\\n   (c) To generate new blocks\\n   (d) To verify the identity of users', '4. What is the difference between a public and a private blockchain?\\n   (a) Public blockchains are open to anyone, while private blockchains are only accessible to a specific group of users.\\n   (b) Public blockchains use a proof-of-work consensus mechanism, while private blockchains use a proof-of-stake consensus mechanism.\\n   (c) Public blockchains are more secure than private blockchains.\\n   (d) Private blockchains are more scalable than public blockchains.', '5. What is a smart contract?\\n   (a) A self-executing program that runs on a blockchain\\n   (b) A type of cryptocurrency\\n   (c) A way to store data on a blockchain\\n   (d) A method for verifying the identity of users', '**Hard Questions (4 points each)**', '6. Explain the concept of distributed consensus in blockchain.\\n   (a) A process by which all nodes in a blockchain network agree on the validity of a transaction\\n   (b) A mechanism for preventing double-spending\\n   (c) A way to generate new blocks\\n   (d) A method for verifying the identity of users', '7. Discuss the scalability challenges faced by blockchain networks.\\n   (a) The number of transactions that a blockchain can process per second\\n   (b) The size of the blockchain ledger\\n   (c) The cost of running a blockchain node\\n   (d) The security of blockchain networks', '8. What are the potential applications of blockchain technology beyond cryptocurrencies?\\n   (a) Supply chain management\\n   (b) Healthcare\\n   (c) Voting\\n   (d) All of the above', '9. Explain the difference between a distributed ledger and a blockchain.\\n   (a) A distributed ledger is a shared database, while a blockchain is a type of distributed ledger that uses blocks of transactions.\\n   (b) A distributed ledger is more secure than a blockchain.\\n   (c) A blockchain is more scalable than a distributed ledger.\\n   (d) A distributed ledger is only used for cryptocurrencies, while a blockchain can be used for a variety of applications.', '10. Discuss the ethical implications of blockchain technology.\\n   (a) The potential for privacy violations\\n   (b) The use of blockchain for illegal activities\\n   (c) The impact of blockchain on the job market\\n   (d) All of the above', '**Answer Key**', '1. (b)\\n2. (b)\\n3. (a)\\n4. (a)\\n5. (a)\\n6. (a)\\n7. (a)\\n8. (d)\\n9. (a)\\n10. (d)']"
   ]
  },
  {
   "cell_type": "code",
   "execution_count": 106,
   "metadata": {},
   "outputs": [],
   "source": [
    "m=['**Question 1 (Easy):**', 'What is the primary purpose of blockchain technology?', '(a) To facilitate secure and transparent transactions\\n(b) To replace traditional banking systems\\n(c) To create new forms of digital currency\\n(d) To store and manage personal data', '**Question 2 (Medium):**', 'Which of the following is a key characteristic of a blockchain?', '(a) Decentralization\\n(b) Immutability\\n(c) Transparency\\n(d) All of the above', '**Question 3 (Hard):**', 'What is the difference between a public and a private blockchain?', '(a) Public blockchains are open to anyone, while private blockchains are restricted to a specific group of participants\\n(b) Private blockchains are more secure than public blockchains\\n(c) Public blockchains use a proof-of-work consensus mechanism, while private blockchains use a proof-of-stake consensus mechanism\\n(d) There is no difference between public and private blockchains', '**Question 4 (Easy):**', 'What is the role of a miner in a blockchain network?', '(a) To validate transactions and add them to the blockchain\\n(b) To create new blocks and receive rewards\\n(c) To store and manage the blockchain\\n(d) To prevent fraud and cyberattacks', '**Question 5 (Medium):**', 'What is a smart contract?', '(a) A self-executing program that runs on a blockchain\\n(b) A legal agreement that is stored on a blockchain\\n(c) A type of cryptocurrency\\n(d) A tool for managing digital assets', '**Question 6 (Hard):**', 'What are the main challenges facing blockchain technology?', '(a) Scalability, regulation, and privacy\\n(b) Security, interoperability, and adoption\\n(c) Cost, complexity, and lack of understanding\\n(d) All of the above', '**Question 7 (Easy):**', 'Who is credited with inventing Bitcoin?', '(a) Satoshi Nakamoto\\n(b) Vitalik Buterin\\n(c) Charles Hoskinson\\n(d) Elon Musk', '**Question 8 (Medium):**', 'What is the name of the first smart contract platform?', '(a) Bitcoin\\n(b) Ethereum\\n(c) Hyperledger Fabric\\n(d) R3 Corda', '**Question 9 (Hard):**', 'What is the difference between a distributed ledger and a blockchain?', '(a) A distributed ledger is a shared database, while a blockchain is a type of distributed ledger that uses blocks to store data\\n(b) A blockchain is a type of distributed ledger that is more secure than a traditional distributed ledger\\n(c) A distributed ledger is used for private transactions, while a blockchain is used for public transactions\\n(d) There is no difference between a distributed ledger and a blockchain', '**Question 10 (Easy):**', 'What is the purpose of a hash function in blockchain?', '(a) To create a unique identifier for each block\\n(b) To encrypt data on the blockchain\\n(c) To validate transactions\\n(d) To prevent double-spending', '**Answer Key:**', '1. (a)\\n2. (d)\\n3. (a)\\n4. (b)\\n5. (a)\\n6. (d)\\n7. (a)\\n8. (b)\\n9. (a)\\n10. (a)']"
   ]
  },
  {
   "cell_type": "code",
   "execution_count": 107,
   "metadata": {},
   "outputs": [
    {
     "data": {
      "text/plain": [
       "['**Question 1 (Easy):**',\n",
       " 'What is the primary purpose of blockchain technology?',\n",
       " '(a) To facilitate secure and transparent transactions\\n(b) To replace traditional banking systems\\n(c) To create new forms of digital currency\\n(d) To store and manage personal data',\n",
       " '**Question 2 (Medium):**',\n",
       " 'Which of the following is a key characteristic of a blockchain?',\n",
       " '(a) Decentralization\\n(b) Immutability\\n(c) Transparency\\n(d) All of the above',\n",
       " '**Question 3 (Hard):**',\n",
       " 'What is the difference between a public and a private blockchain?',\n",
       " '(a) Public blockchains are open to anyone, while private blockchains are restricted to a specific group of participants\\n(b) Private blockchains are more secure than public blockchains\\n(c) Public blockchains use a proof-of-work consensus mechanism, while private blockchains use a proof-of-stake consensus mechanism\\n(d) There is no difference between public and private blockchains',\n",
       " '**Question 4 (Easy):**',\n",
       " 'What is the role of a miner in a blockchain network?',\n",
       " '(a) To validate transactions and add them to the blockchain\\n(b) To create new blocks and receive rewards\\n(c) To store and manage the blockchain\\n(d) To prevent fraud and cyberattacks',\n",
       " '**Question 5 (Medium):**',\n",
       " 'What is a smart contract?',\n",
       " '(a) A self-executing program that runs on a blockchain\\n(b) A legal agreement that is stored on a blockchain\\n(c) A type of cryptocurrency\\n(d) A tool for managing digital assets',\n",
       " '**Question 6 (Hard):**',\n",
       " 'What are the main challenges facing blockchain technology?',\n",
       " '(a) Scalability, regulation, and privacy\\n(b) Security, interoperability, and adoption\\n(c) Cost, complexity, and lack of understanding\\n(d) All of the above',\n",
       " '**Question 7 (Easy):**',\n",
       " 'Who is credited with inventing Bitcoin?',\n",
       " '(a) Satoshi Nakamoto\\n(b) Vitalik Buterin\\n(c) Charles Hoskinson\\n(d) Elon Musk',\n",
       " '**Question 8 (Medium):**',\n",
       " 'What is the name of the first smart contract platform?',\n",
       " '(a) Bitcoin\\n(b) Ethereum\\n(c) Hyperledger Fabric\\n(d) R3 Corda',\n",
       " '**Question 9 (Hard):**',\n",
       " 'What is the difference between a distributed ledger and a blockchain?',\n",
       " '(a) A distributed ledger is a shared database, while a blockchain is a type of distributed ledger that uses blocks to store data\\n(b) A blockchain is a type of distributed ledger that is more secure than a traditional distributed ledger\\n(c) A distributed ledger is used for private transactions, while a blockchain is used for public transactions\\n(d) There is no difference between a distributed ledger and a blockchain',\n",
       " '**Question 10 (Easy):**',\n",
       " 'What is the purpose of a hash function in blockchain?',\n",
       " '(a) To create a unique identifier for each block\\n(b) To encrypt data on the blockchain\\n(c) To validate transactions\\n(d) To prevent double-spending',\n",
       " '**Answer Key:**',\n",
       " '1. (a)\\n2. (d)\\n3. (a)\\n4. (b)\\n5. (a)\\n6. (d)\\n7. (a)\\n8. (b)\\n9. (a)\\n10. (a)']"
      ]
     },
     "execution_count": 107,
     "metadata": {},
     "output_type": "execute_result"
    }
   ],
   "source": [
    "m"
   ]
  },
  {
   "cell_type": "code",
   "execution_count": 108,
   "metadata": {},
   "outputs": [],
   "source": [
    "l=['**Multiple-Choice Quiz**', '**Easy (2 points)**', '1. What is the primary benefit of blockchain technology?\\n(a) Centralized control\\n(b) Decentralization\\n(c) Increased transaction fees\\n(d) Reduced security', '2. Which of the following is NOT a characteristic of a blockchain?\\n(a) Append-only\\n(b) Immutable\\n(c) Transparent\\n(d) Centralized', '**Medium (3 points)**', '3. What is the process by which transactions are added to a blockchain called?\\n(a) Mining\\n(b) Validation\\n(c) Consensus\\n(d) Propagation', '4. Which type of blockchain is open to the public and allows anyone to participate?\\n(a) Private blockchain\\n(b) Public blockchain\\n(c) Semi-private blockchain\\n(d) Permissioned ledger', '5. What is the purpose of a hash pointer in a blockchain?\\n(a) To link blocks together\\n(b) To store transaction data\\n(c) To verify the validity of transactions\\n(d) To prevent double-spending', '**Hard (4 points)**', '6. Explain the concept of distributed consensus and how it is achieved in a blockchain.', '7. Describe the role of cryptography in ensuring the security of a blockchain.', '8. Discuss the limitations of blockchain technology and how they are being addressed.', '9. What are the potential applications of blockchain technology beyond cryptocurrencies?', '10. How does blockchain differ from a traditional distributed ledger?', '**Answer Key**', '**Easy**\\n1. (b)\\n2. (d)', '**Medium**\\n3. (a)\\n4. (b)\\n5. (a)', '**Hard**\\nAnswers will vary.']"
   ]
  },
  {
   "cell_type": "code",
   "execution_count": 109,
   "metadata": {},
   "outputs": [
    {
     "data": {
      "text/plain": [
       "['**Multiple-Choice Quiz**',\n",
       " '**Easy (2 points)**',\n",
       " '1. What is the primary benefit of blockchain technology?\\n(a) Centralized control\\n(b) Decentralization\\n(c) Increased transaction fees\\n(d) Reduced security',\n",
       " '2. Which of the following is NOT a characteristic of a blockchain?\\n(a) Append-only\\n(b) Immutable\\n(c) Transparent\\n(d) Centralized',\n",
       " '**Medium (3 points)**',\n",
       " '3. What is the process by which transactions are added to a blockchain called?\\n(a) Mining\\n(b) Validation\\n(c) Consensus\\n(d) Propagation',\n",
       " '4. Which type of blockchain is open to the public and allows anyone to participate?\\n(a) Private blockchain\\n(b) Public blockchain\\n(c) Semi-private blockchain\\n(d) Permissioned ledger',\n",
       " '5. What is the purpose of a hash pointer in a blockchain?\\n(a) To link blocks together\\n(b) To store transaction data\\n(c) To verify the validity of transactions\\n(d) To prevent double-spending',\n",
       " '**Hard (4 points)**',\n",
       " '6. Explain the concept of distributed consensus and how it is achieved in a blockchain.',\n",
       " '7. Describe the role of cryptography in ensuring the security of a blockchain.',\n",
       " '8. Discuss the limitations of blockchain technology and how they are being addressed.',\n",
       " '9. What are the potential applications of blockchain technology beyond cryptocurrencies?',\n",
       " '10. How does blockchain differ from a traditional distributed ledger?',\n",
       " '**Answer Key**',\n",
       " '**Easy**\\n1. (b)\\n2. (d)',\n",
       " '**Medium**\\n3. (a)\\n4. (b)\\n5. (a)',\n",
       " '**Hard**\\nAnswers will vary.']"
      ]
     },
     "execution_count": 109,
     "metadata": {},
     "output_type": "execute_result"
    }
   ],
   "source": []
  },
  {
   "cell_type": "code",
   "execution_count": 118,
   "metadata": {},
   "outputs": [],
   "source": [
    "list=['**Question 1:**', 'Which of the following is NOT a benefit of blockchain technology?', '(A) Simplification of current paradigms\\n(B) Faster dealings\\n(C) Centralized control\\n(D) Cost-saving', '**Question 2:**', 'What is the process of reaching agreement on a common state or value among multiple nodes called in a distributed system?', '(A) Distributed consensus\\n(B) Blockchain validation\\n(C) Smart contract execution\\n(D) Transaction propagation', '**Question 3:**', 'Which of the following is a characteristic of a public blockchain?', '(A) Open to the public\\n(B) Controlled by a single entity\\n(C) Requires permission to participate\\n(D) Uses a proof-of-work consensus mechanism', '**Question 4:**', 'What is the purpose of a hash pointer in a blockchain?', '(A) To link a block to the previous block\\n(B) To verify the validity of a transaction\\n(C) To store the data of a transaction\\n(D) To generate a new block', '**Question 5:**', 'Which of the following is a limitation of blockchain technology?', '(A) Scalability\\n(B) Regulation\\n(C) Privacy\\n(D) All of the above', '**Question 6:**', 'What is the name of the first smart contract programmable blockchain?', '(A) Bitcoin\\n(B) Ethereum\\n(C) Hyperledger Fabric\\n(D) Corda', '**Question 7:**', 'Which of the following is a consensus mechanism used in blockchain networks?', '(A) Proof-of-Work\\n(B) Proof-of-Stake\\n(C) Byzantine Fault Tolerance\\n(D) All of the above', '**Question 8:**', 'What is the term used to describe the process of adding a new block to the blockchain?', '(A) Mining\\n(B) Validation\\n(C) Propagation\\n(D) Execution', '**Question 9:**', 'Which of the following is NOT a layer in the blockchain architecture?', '(A) Network\\n(B) Consensus\\n(C) Execution\\n(D) Storage', '**Question 10:**', 'What is the purpose of a digital signature in blockchain transactions?', '(A) To verify the identity of the sender\\n(B) To encrypt the transaction data\\n(C) To generate a new block\\n(D) To store the transaction history', '**Answer Key:**', '1. C\\n2. A\\n3. A\\n4. A\\n5. D\\n6. B\\n7. D\\n8. A\\n9. D\\n10. A']"
   ]
  },
  {
   "cell_type": "code",
   "execution_count": 119,
   "metadata": {},
   "outputs": [
    {
     "data": {
      "text/plain": [
       "['**Question 1:**',\n",
       " 'Which of the following is NOT a benefit of blockchain technology?',\n",
       " '(A) Simplification of current paradigms\\n(B) Faster dealings\\n(C) Centralized control\\n(D) Cost-saving',\n",
       " '**Question 2:**',\n",
       " 'What is the process of reaching agreement on a common state or value among multiple nodes called in a distributed system?',\n",
       " '(A) Distributed consensus\\n(B) Blockchain validation\\n(C) Smart contract execution\\n(D) Transaction propagation',\n",
       " '**Question 3:**',\n",
       " 'Which of the following is a characteristic of a public blockchain?',\n",
       " '(A) Open to the public\\n(B) Controlled by a single entity\\n(C) Requires permission to participate\\n(D) Uses a proof-of-work consensus mechanism',\n",
       " '**Question 4:**',\n",
       " 'What is the purpose of a hash pointer in a blockchain?',\n",
       " '(A) To link a block to the previous block\\n(B) To verify the validity of a transaction\\n(C) To store the data of a transaction\\n(D) To generate a new block',\n",
       " '**Question 5:**',\n",
       " 'Which of the following is a limitation of blockchain technology?',\n",
       " '(A) Scalability\\n(B) Regulation\\n(C) Privacy\\n(D) All of the above',\n",
       " '**Question 6:**',\n",
       " 'What is the name of the first smart contract programmable blockchain?',\n",
       " '(A) Bitcoin\\n(B) Ethereum\\n(C) Hyperledger Fabric\\n(D) Corda',\n",
       " '**Question 7:**',\n",
       " 'Which of the following is a consensus mechanism used in blockchain networks?',\n",
       " '(A) Proof-of-Work\\n(B) Proof-of-Stake\\n(C) Byzantine Fault Tolerance\\n(D) All of the above',\n",
       " '**Question 8:**',\n",
       " 'What is the term used to describe the process of adding a new block to the blockchain?',\n",
       " '(A) Mining\\n(B) Validation\\n(C) Propagation\\n(D) Execution',\n",
       " '**Question 9:**',\n",
       " 'Which of the following is NOT a layer in the blockchain architecture?',\n",
       " '(A) Network\\n(B) Consensus\\n(C) Execution\\n(D) Storage',\n",
       " '**Question 10:**',\n",
       " 'What is the purpose of a digital signature in blockchain transactions?',\n",
       " '(A) To verify the identity of the sender\\n(B) To encrypt the transaction data\\n(C) To generate a new block\\n(D) To store the transaction history',\n",
       " '**Answer Key:**',\n",
       " '1. C\\n2. A\\n3. A\\n4. A\\n5. D\\n6. B\\n7. D\\n8. A\\n9. D\\n10. A']"
      ]
     },
     "execution_count": 119,
     "metadata": {},
     "output_type": "execute_result"
    }
   ],
   "source": [
    "list"
   ]
  },
  {
   "cell_type": "code",
   "execution_count": 115,
   "metadata": {},
   "outputs": [],
   "source": [
    "k=['**Question 1:**', 'What is the process of reaching agreement on a common state or value among multiple nodes known as?', '(A) Distributed consensus\\n(B) Blockchain validation\\n(C) Cryptographic hashing\\n(D) Smart contract execution', '**Question 2:**', 'Which of the following is NOT a benefit of blockchain technology?', '(A) Faster dealings\\n(B) Cost-saving\\n(C) Centralized control\\n(D) Smart property', '**Question 3:**', 'What is the name of the mathematical puzzle that miners solve to find a new block?', '(A) Hash function\\n(B) Merkle tree\\n(C) Proof-of-work\\n(D) Digital signature', '**Question 4:**', 'Which type of blockchain is open to the public and anyone can participate as a node?', '(A) Private blockchain\\n(B) Public blockchain\\n(C) Semi-private blockchain\\n(D) Permissioned ledger', '**Question 5:**', 'What is the purpose of a hash pointer in a blockchain?', '(A) To link a block to the previous block\\n(B) To verify the integrity of a transaction\\n(C) To store the value of a transaction\\n(D) To encrypt the data in a block', '**Question 6:**', 'Which of the following is a limitation of blockchain technology?', '(A) Scalability\\n(B) Regulation\\n(C) Privacy\\n(D) All of the above', '**Question 7:**', 'What is the name of the first smart contract programmable blockchain?', '(A) Bitcoin\\n(B) Ethereum\\n(C) Hyperledger Fabric\\n(D) Corda', '**Question 8:**', 'Which type of blockchain is controlled by a single entity but allows multiple users to join?', '(A) Permissioned ledger\\n(B) Semi-private blockchain\\n(C) Fully private blockchain\\n(D) Public blockchain', '**Question 9:**', 'What is the purpose of a digital signature in a blockchain transaction?', '(A) To verify the identity of the sender\\n(B) To encrypt the data in the transaction\\n(C) To generate a unique identifier for the transaction\\n(D) To prevent double-spending', '**Question 10:**', 'Which of the following is a potential application of blockchain technology in the medical field?', '(A) Patient record management\\n(B) Drug supply chain tracking\\n(C) Medical research collaboration\\n(D) All of the above', '**Answer Key:**', '1. A\\n2. C\\n3. C\\n4. B\\n5. A\\n6. D\\n7. B\\n8. B\\n9. A\\n10. D']"
   ]
  },
  {
   "cell_type": "code",
   "execution_count": 116,
   "metadata": {},
   "outputs": [
    {
     "data": {
      "text/plain": [
       "['**Question 1:**',\n",
       " 'What is the process of reaching agreement on a common state or value among multiple nodes known as?',\n",
       " '(A) Distributed consensus\\n(B) Blockchain validation\\n(C) Cryptographic hashing\\n(D) Smart contract execution',\n",
       " '**Question 2:**',\n",
       " 'Which of the following is NOT a benefit of blockchain technology?',\n",
       " '(A) Faster dealings\\n(B) Cost-saving\\n(C) Centralized control\\n(D) Smart property',\n",
       " '**Question 3:**',\n",
       " 'What is the name of the mathematical puzzle that miners solve to find a new block?',\n",
       " '(A) Hash function\\n(B) Merkle tree\\n(C) Proof-of-work\\n(D) Digital signature',\n",
       " '**Question 4:**',\n",
       " 'Which type of blockchain is open to the public and anyone can participate as a node?',\n",
       " '(A) Private blockchain\\n(B) Public blockchain\\n(C) Semi-private blockchain\\n(D) Permissioned ledger',\n",
       " '**Question 5:**',\n",
       " 'What is the purpose of a hash pointer in a blockchain?',\n",
       " '(A) To link a block to the previous block\\n(B) To verify the integrity of a transaction\\n(C) To store the value of a transaction\\n(D) To encrypt the data in a block',\n",
       " '**Question 6:**',\n",
       " 'Which of the following is a limitation of blockchain technology?',\n",
       " '(A) Scalability\\n(B) Regulation\\n(C) Privacy\\n(D) All of the above',\n",
       " '**Question 7:**',\n",
       " 'What is the name of the first smart contract programmable blockchain?',\n",
       " '(A) Bitcoin\\n(B) Ethereum\\n(C) Hyperledger Fabric\\n(D) Corda',\n",
       " '**Question 8:**',\n",
       " 'Which type of blockchain is controlled by a single entity but allows multiple users to join?',\n",
       " '(A) Permissioned ledger\\n(B) Semi-private blockchain\\n(C) Fully private blockchain\\n(D) Public blockchain',\n",
       " '**Question 9:**',\n",
       " 'What is the purpose of a digital signature in a blockchain transaction?',\n",
       " '(A) To verify the identity of the sender\\n(B) To encrypt the data in the transaction\\n(C) To generate a unique identifier for the transaction\\n(D) To prevent double-spending',\n",
       " '**Question 10:**',\n",
       " 'Which of the following is a potential application of blockchain technology in the medical field?',\n",
       " '(A) Patient record management\\n(B) Drug supply chain tracking\\n(C) Medical research collaboration\\n(D) All of the above',\n",
       " '**Answer Key:**',\n",
       " '1. A\\n2. C\\n3. C\\n4. B\\n5. A\\n6. D\\n7. B\\n8. B\\n9. A\\n10. D']"
      ]
     },
     "execution_count": 116,
     "metadata": {},
     "output_type": "execute_result"
    }
   ],
   "source": [
    "k"
   ]
  },
  {
   "cell_type": "code",
   "execution_count": 120,
   "metadata": {},
   "outputs": [],
   "source": [
    "f1=['*Multiple-Choice Quiz*', '*Question 1 (Easy)*\\nWhat is the main purpose of a blockchain?\\n(a) To store data securely\\n(b) To facilitate transactions without a central authority\\n(c) To create new cryptocurrencies\\n(d) To improve the efficiency of traditional financial systems', '*Question 2 (Medium)*\\nWhich of the following is NOT a characteristic of a blockchain?\\n(a) Decentralized\\n(b) Immutable\\n(c) Transparent\\n(d) Centralized', '*Question 3 (Easy)*\\nWhat is the process called where a block is added to the blockchain?\\n(a) Mining\\n(b) Validation\\n(c) Propagation\\n(d) Consensus', '*Question 4 (Medium)*\\nWhat is the difference between a public and a private blockchain?\\n(a) Public blockchains are open to anyone, while private blockchains are only accessible to a select group of participants.\\n(b) Public blockchains are more secure than private blockchains.\\n(c) Private blockchains are faster than public blockchains.\\n(d) There is no difference between public and private blockchains.', '*Question 5 (Easy)*\\nWhat is the name of the first cryptocurrency?\\n(a) Ethereum\\n(b) Bitcoin\\n(c) Litecoin\\n(d) Dogecoin', '*Question 6 (Medium)*\\nWhat is the main benefit of using a blockchain for financial transactions?\\n(a) Reduced costs\\n(b) Faster settlement times\\n(c) Increased security\\n(d) All of the above', '*Question 7 (Easy)*\\nWhat is a smart contract?\\n(a) A self-executing contract that runs on a blockchain\\n(b) A traditional contract that is stored on a blockchain\\n(c) A type of cryptocurrency\\n(d) A way to create new blockchains', '*Question 8 (Medium)*\\nWhat is the main challenge facing blockchain technology?\\n(a) Scalability\\n(b) Regulation\\n(c) Privacy\\n(d) All of the above', '*Question 9 (Easy)*\\nWhat is the name of the consensus mechanism used by Bitcoin?\\n(a) Proof-of-Work\\n(b) Proof-of-Stake\\n(c) Delegated Proof-of-Stake\\n(d) Practical Byzantine Fault Tolerance', '*Question 10 (Medium)*\\nWhat is the future of blockchain technology?\\n(a) It will revolutionize many industries\\n(b) It will be replaced by a more advanced technology\\n(c) It will only be used for cryptocurrencies\\n(d) It will not have a significant impact on the world', '*Answer Key*', '1. (b)\\n2. (d)\\n3. (a)\\n4. (a)\\n5. (b)\\n6. (d)\\n7. (a)\\n8. (d)\\n9. (a)\\n10. (a)']"
   ]
  },
  {
   "cell_type": "code",
   "execution_count": 121,
   "metadata": {},
   "outputs": [
    {
     "data": {
      "text/plain": [
       "['*Multiple-Choice Quiz*',\n",
       " '*Question 1 (Easy)*\\nWhat is the main purpose of a blockchain?\\n(a) To store data securely\\n(b) To facilitate transactions without a central authority\\n(c) To create new cryptocurrencies\\n(d) To improve the efficiency of traditional financial systems',\n",
       " '*Question 2 (Medium)*\\nWhich of the following is NOT a characteristic of a blockchain?\\n(a) Decentralized\\n(b) Immutable\\n(c) Transparent\\n(d) Centralized',\n",
       " '*Question 3 (Easy)*\\nWhat is the process called where a block is added to the blockchain?\\n(a) Mining\\n(b) Validation\\n(c) Propagation\\n(d) Consensus',\n",
       " '*Question 4 (Medium)*\\nWhat is the difference between a public and a private blockchain?\\n(a) Public blockchains are open to anyone, while private blockchains are only accessible to a select group of participants.\\n(b) Public blockchains are more secure than private blockchains.\\n(c) Private blockchains are faster than public blockchains.\\n(d) There is no difference between public and private blockchains.',\n",
       " '*Question 5 (Easy)*\\nWhat is the name of the first cryptocurrency?\\n(a) Ethereum\\n(b) Bitcoin\\n(c) Litecoin\\n(d) Dogecoin',\n",
       " '*Question 6 (Medium)*\\nWhat is the main benefit of using a blockchain for financial transactions?\\n(a) Reduced costs\\n(b) Faster settlement times\\n(c) Increased security\\n(d) All of the above',\n",
       " '*Question 7 (Easy)*\\nWhat is a smart contract?\\n(a) A self-executing contract that runs on a blockchain\\n(b) A traditional contract that is stored on a blockchain\\n(c) A type of cryptocurrency\\n(d) A way to create new blockchains',\n",
       " '*Question 8 (Medium)*\\nWhat is the main challenge facing blockchain technology?\\n(a) Scalability\\n(b) Regulation\\n(c) Privacy\\n(d) All of the above',\n",
       " '*Question 9 (Easy)*\\nWhat is the name of the consensus mechanism used by Bitcoin?\\n(a) Proof-of-Work\\n(b) Proof-of-Stake\\n(c) Delegated Proof-of-Stake\\n(d) Practical Byzantine Fault Tolerance',\n",
       " '*Question 10 (Medium)*\\nWhat is the future of blockchain technology?\\n(a) It will revolutionize many industries\\n(b) It will be replaced by a more advanced technology\\n(c) It will only be used for cryptocurrencies\\n(d) It will not have a significant impact on the world',\n",
       " '*Answer Key*',\n",
       " '1. (b)\\n2. (d)\\n3. (a)\\n4. (a)\\n5. (b)\\n6. (d)\\n7. (a)\\n8. (d)\\n9. (a)\\n10. (a)']"
      ]
     },
     "execution_count": 121,
     "metadata": {},
     "output_type": "execute_result"
    }
   ],
   "source": [
    "f1"
   ]
  },
  {
   "cell_type": "code",
   "execution_count": 122,
   "metadata": {},
   "outputs": [],
   "source": [
    "f2=['*Multiple-Choice Quiz*', '*Question 1 (Easy)*\\nWhat is the primary purpose of blockchain technology?\\n(a) To facilitate secure and transparent transactions\\n(b) To replace traditional banking systems\\n(c) To store and manage personal data\\n(d) To create new forms of digital currency', '*Question 2 (Medium)*\\nWhich of the following is a key feature of blockchain?\\n(a) Immutability\\n(b) Centralization\\n(c) Privacy\\n(d) Low cost', '*Question 3 (Easy)*\\nWhat is the process called where nodes on a blockchain network reach an agreement on the validity of transactions?\\n(a) Mining\\n(b) Consensus\\n(c) Validation\\n(d) Encryption', '*Question 4 (Medium)*\\nWhich of the following is a type of blockchain that is open to the public?\\n(a) Private blockchain\\n(b) Permissioned ledger\\n(c) Public blockchain\\n(d) Semi-private blockchain', '*Question 5 (Easy)*\\nWhat is the role of a transaction in a blockchain?\\n(a) To represent the transfer of value\\n(b) To store user data\\n(c) To create new blocks\\n(d) To validate transactions', '*Question 6 (Medium)*\\nWhich of the following is a benefit of using blockchain for financial transactions?\\n(a) Faster settlement times\\n(b) Reduced transaction fees\\n(c) Increased security\\n(d) All of the above', '*Question 7 (Easy)*\\nWhat is the name of the first cryptocurrency to use blockchain technology?\\n(a) Ethereum\\n(b) Bitcoin\\n(c) Litecoin\\n(d) Dogecoin', '*Question 8 (Medium)*\\nWhich of the following is a challenge associated with blockchain technology?\\n(a) Scalability\\n(b) Regulation\\n(c) Privacy\\n(d) All of the above', '*Question 9 (Easy)*\\nWhat is the term for a distributed ledger that does not use blocks of transactions?\\n(a) Blockchain\\n(b) Distributed ledger\\n(c) Shared ledger\\n(d) Public ledger', '*Question 10 (Medium)*\\nWhich of the following is a potential use case for blockchain technology beyond cryptocurrencies?\\n(a) Supply chain management\\n(b) Healthcare data sharing\\n(c) Voting systems\\n(d) All of the above', '*Answer Key*', '1. (a)\\n2. (a)\\n3. (b)\\n4. (c)\\n5. (a)\\n6. (d)\\n7. (b)\\n8. (d)\\n9. (b)\\n10. (d)']"
   ]
  },
  {
   "cell_type": "code",
   "execution_count": 128,
   "metadata": {},
   "outputs": [],
   "source": [
    "f2=[\"['*Multiple-Choice Quiz*', '*Question 1 (Easy)*\\nWhat is the process of attaining agreement on a common state or value among multiple nodes known as?\\n(a) Distributed consensus\\n(b) Fault tolerant distributed consensus\\n(c) Blockchain validation\\n(d) Transaction propagation', '*Question 2 (Medium)*\\nWhich of the following is NOT a benefit of blockchain technology?\\n(a) Simplification of current paradigms\\n(b) Faster dealings\\n(c) Cost-saving\\n(d) Centralized trust', '*Question 3 (Easy)*\\nWhat is the name of the mathematical puzzle that miners must solve to find a new block in a blockchain?\\n(a) Hash function\\n(b) Cryptographic signature\\n(c) Consensus algorithm\\n(d) Merkle tree', '*Question 4 (Medium)*\\nWhich of the following is a type of blockchain that is open to the public and allows anyone to participate?\\n(a) Private blockchain\\n(b) Consortium blockchain\\n(c) Public blockchain\\n(d) Permissioned blockchain', '*Question 5 (Easy)*\\nWhat is the name of the process by which a transaction is validated and broadcast to other peers on a blockchain network?\\n(a) Transaction propagation\\n(b) Block mining\\n(c) Consensus\\n(d) Smart contract execution', '*Question 6 (Medium)*\\nWhich of the following is a limitation of blockchain technology?\\n(a) Scalability\\n(b) Regulation\\n(c) Privacy\\n(d) All of the above', '*Question 7 (Easy)*\\nWhat is the name of the first cryptocurrency to be created?\\n(a) Ethereum\\n(b) Bitcoin\\n(c) Litecoin\\n(d) Dogecoin', '*Question 8 (Medium)*\\nWhich of the following is a consensus mechanism used in blockchain networks?\\n(a) Proof of Work\\n(b) Proof of Stake\\n(c) Proof of Authority\\n(d) All of the above', '*Question 9 (Easy)*\\nWhat is the name of the layer in a blockchain architecture that is responsible for executing smart contracts?\\n(a) Network layer\\n(b) Consensus layer\\n(c) Execution layer\\n(d) Applications layer', '*Question 10 (Medium)*\\nWhich of the following is a type of blockchain that is used to record and manage agreements?\\n(a) R3's Corda\\n(b) Hyperledger Fabric\\n(c) Ethereum\\n(d) Bitcoin', '*Answer Key*', '(a),(d),(d),(c),(a),(d),(b),(d),(c),(a)']\"]"
   ]
  },
  {
   "cell_type": "code",
   "execution_count": 130,
   "metadata": {},
   "outputs": [
    {
     "data": {
      "text/plain": [
       "[\"['*Multiple-Choice Quiz*', '*Question 1 (Easy)*\\nWhat is the process of attaining agreement on a common state or value among multiple nodes known as?\\n(a) Distributed consensus\\n(b) Fault tolerant distributed consensus\\n(c) Blockchain validation\\n(d) Transaction propagation', '*Question 2 (Medium)*\\nWhich of the following is NOT a benefit of blockchain technology?\\n(a) Simplification of current paradigms\\n(b) Faster dealings\\n(c) Cost-saving\\n(d) Centralized trust', '*Question 3 (Easy)*\\nWhat is the name of the mathematical puzzle that miners must solve to find a new block in a blockchain?\\n(a) Hash function\\n(b) Cryptographic signature\\n(c) Consensus algorithm\\n(d) Merkle tree', '*Question 4 (Medium)*\\nWhich of the following is a type of blockchain that is open to the public and allows anyone to participate?\\n(a) Private blockchain\\n(b) Consortium blockchain\\n(c) Public blockchain\\n(d) Permissioned blockchain', '*Question 5 (Easy)*\\nWhat is the name of the process by which a transaction is validated and broadcast to other peers on a blockchain network?\\n(a) Transaction propagation\\n(b) Block mining\\n(c) Consensus\\n(d) Smart contract execution', '*Question 6 (Medium)*\\nWhich of the following is a limitation of blockchain technology?\\n(a) Scalability\\n(b) Regulation\\n(c) Privacy\\n(d) All of the above', '*Question 7 (Easy)*\\nWhat is the name of the first cryptocurrency to be created?\\n(a) Ethereum\\n(b) Bitcoin\\n(c) Litecoin\\n(d) Dogecoin', '*Question 8 (Medium)*\\nWhich of the following is a consensus mechanism used in blockchain networks?\\n(a) Proof of Work\\n(b) Proof of Stake\\n(c) Proof of Authority\\n(d) All of the above', '*Question 9 (Easy)*\\nWhat is the name of the layer in a blockchain architecture that is responsible for executing smart contracts?\\n(a) Network layer\\n(b) Consensus layer\\n(c) Execution layer\\n(d) Applications layer', '*Question 10 (Medium)*\\nWhich of the following is a type of blockchain that is used to record and manage agreements?\\n(a) R3's Corda\\n(b) Hyperledger Fabric\\n(c) Ethereum\\n(d) Bitcoin', '*Answer Key*', '(a),(d),(d),(c),(a),(d),(b),(d),(c),(a)']\"]"
      ]
     },
     "execution_count": 130,
     "metadata": {},
     "output_type": "execute_result"
    }
   ],
   "source": [
    "f2"
   ]
  },
  {
   "cell_type": "code",
   "execution_count": 131,
   "metadata": {},
   "outputs": [],
   "source": [
    "f3=[\"['*Multiple-Choice Quiz*', '*Question 1 (Easy)*\\nWhat is the primary purpose of a blockchain?\\n(a) To facilitate secure and transparent transactions\\n(b) To store and manage data\\n(c) To provide a platform for smart contracts\\n(d) To enable online gaming', \\n    '*Question 2 (Medium)*\\nWhich of the following is NOT a characteristic of a blockchain?\\n(a) Immutability\\n(b) Centralization\\n(c) Security\\n(d) High availability', \\n    '*Question 3 (Easy)*\\nWhat is the process called when a new block is added to the blockchain?\\n(a) Mining\\n(b) Forging\\n(c) Staking\\n(d) Consensus', \\n    '*Question 4 (Medium)*\\nWhich of the following is a type of blockchain?\\n(a) Public\\n(b) Private\\n(c) Permissioned\\n(d) All of the above', \\n    '*Question 5 (Easy)*\\nWhat is the difference between a distributed ledger and a blockchain?\\n(a) Blockchains are a type of distributed ledger\\n(b) Distributed ledgers are a type of blockchain\\n(c) Blockchains use blocks to store transactions, while distributed ledgers do not\\n(d) Distributed ledgers are more secure than blockchains', \\n    '*Question 6 (Medium)*\\nWhat is the role of cryptography in blockchain technology?\\n(a) To secure transactions\\n(b) To verify the identity of users\\n(c) To prevent double-spends\\n(d) All of the above', \\n    '*Question 7 (Easy)*\\nWhat is a smart contract?\\n(a) A self-executing contract stored on the blockchain\\n(b) A traditional contract that is enforced by law\\n(c) A type of cryptocurrency\\n(d) A computer program that runs on the blockchain', \\n    '*Question 8 (Medium)*\\nWhich of the following is a benefit of blockchain technology?\\n(a) Increased transparency\\n(b) Reduced costs\\n(c) Faster transactions\\n(d) All of the above', \\n    '*Question 9 (Easy)*\\nWhat is a consensus mechanism?\\n(a) A method for reaching agreement among nodes on the blockchain\\n(b) A type of cryptography\\n(c) A way to store data on the blockchain\\n(d) A way to transfer funds on the blockchain', \\n    '*Question 10 (Medium)*\\nWhat is the difference between a hard fork and a soft fork in blockchain technology?\\n(a) A hard fork requires all nodes to upgrade their software, while a soft fork does not\\n(b) A soft fork requires all nodes to upgrade their software, while a hard fork does not\\n(c) A hard fork is a permanent change to the blockchain, while a soft fork is not\\n(d) A soft fork is a permanent change to the blockchain, while a hard fork is not', \\n    '*Answer Key*', \\n    '(a)', \\n    '(b)', \\n    '(a)', \\n    '(d)', \\n    '(c)', \\n    '(d)', \\n    '(a)', \\n    '(d)', \\n    '(a)', \\n    '(a)']\"]"
   ]
  },
  {
   "cell_type": "code",
   "execution_count": 135,
   "metadata": {},
   "outputs": [
    {
     "data": {
      "text/plain": [
       "\"['*Multiple-Choice Quiz*', '*Question 1 (Easy)*\\nWhat is the primary purpose of a blockchain?\\n(a) To facilitate secure and transparent transactions\\n(b) To store and manage data\\n(c) To provide a platform for smart contracts\\n(d) To enable online gaming', \\n    '*Question 2 (Medium)*\\nWhich of the following is NOT a characteristic of a blockchain?\\n(a) Immutability\\n(b) Centralization\\n(c) Security\\n(d) High availability', \\n    '*Question 3 (Easy)*\\nWhat is the process called when a new block is added to the blockchain?\\n(a) Mining\\n(b) Forging\\n(c) Staking\\n(d) Consensus', \\n    '*Question 4 (Medium)*\\nWhich of the following is a type of blockchain?\\n(a) Public\\n(b) Private\\n(c) Permissioned\\n(d) All of the above', \\n    '*Question 5 (Easy)*\\nWhat is the difference between a distributed ledger and a blockchain?\\n(a) Blockchains are a type of distributed ledger\\n(b) Distributed ledgers are a type of blockchain\\n(c) Blockchains use blocks to store transactions, while distributed ledgers do not\\n(d) Distributed ledgers are more secure than blockchains', \\n    '*Question 6 (Medium)*\\nWhat is the role of cryptography in blockchain technology?\\n(a) To secure transactions\\n(b) To verify the identity of users\\n(c) To prevent double-spends\\n(d) All of the above', \\n    '*Question 7 (Easy)*\\nWhat is a smart contract?\\n(a) A self-executing contract stored on the blockchain\\n(b) A traditional contract that is enforced by law\\n(c) A type of cryptocurrency\\n(d) A computer program that runs on the blockchain', \\n    '*Question 8 (Medium)*\\nWhich of the following is a benefit of blockchain technology?\\n(a) Increased transparency\\n(b) Reduced costs\\n(c) Faster transactions\\n(d) All of the above', \\n    '*Question 9 (Easy)*\\nWhat is a consensus mechanism?\\n(a) A method for reaching agreement among nodes on the blockchain\\n(b) A type of cryptography\\n(c) A way to store data on the blockchain\\n(d) A way to transfer funds on the blockchain', \\n    '*Question 10 (Medium)*\\nWhat is the difference between a hard fork and a soft fork in blockchain technology?\\n(a) A hard fork requires all nodes to upgrade their software, while a soft fork does not\\n(b) A soft fork requires all nodes to upgrade their software, while a hard fork does not\\n(c) A hard fork is a permanent change to the blockchain, while a soft fork is not\\n(d) A soft fork is a permanent change to the blockchain, while a hard fork is not', \\n    '*Answer Key*', \\n    '(a)', \\n    '(b)', \\n    '(a)', \\n    '(d)', \\n    '(c)', \\n    '(d)', \\n    '(a)', \\n    '(d)', \\n    '(a)', \\n    '(a)']\""
      ]
     },
     "execution_count": 135,
     "metadata": {},
     "output_type": "execute_result"
    }
   ],
   "source": [
    "]"
   ]
  },
  {
   "cell_type": "code",
   "execution_count": null,
   "metadata": {},
   "outputs": [],
   "source": []
  }
 ],
 "metadata": {
  "kernelspec": {
   "display_name": "Curio_env",
   "language": "python",
   "name": "python3"
  },
  "language_info": {
   "codemirror_mode": {
    "name": "ipython",
    "version": 3
   },
   "file_extension": ".py",
   "mimetype": "text/x-python",
   "name": "python",
   "nbconvert_exporter": "python",
   "pygments_lexer": "ipython3",
   "version": "3.10.9"
  }
 },
 "nbformat": 4,
 "nbformat_minor": 2
}
